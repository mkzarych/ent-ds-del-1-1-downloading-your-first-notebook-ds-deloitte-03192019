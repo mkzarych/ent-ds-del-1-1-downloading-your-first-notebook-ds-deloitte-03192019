{
 "cells": [
  {
   "cell_type": "markdown",
   "metadata": {},
   "source": [
    "# Downloading Your First Jupyter Notebook - Lab\n",
    "\n",
    "\n",
    "## Introduction\n",
    "In this lesson, we'll practice forking and cloning a lesson and then opening and working with a Jupyter Notebook - the main tool you will be using for writing Python scripts.\n",
    "\n",
    "## Objectives\n",
    "You will be able to:\n",
    "* Fork (copy) and clone (download) projects from GitHub to work on as part of this course\n",
    "* Open a Jupyter Notebook from your terminal window\n",
    "* Make changes to, and run the code in a Jupyter Notebook\n",
    "* Save your changes and upload them to GitHub"
   ]
  },
  {
   "cell_type": "markdown",
   "metadata": {},
   "source": [
    "## Working Locally\n",
    "You might have noticed that the title of this lesson includes \"- Lab\". That means you are going to be working on this project locally - on your laptop - not just reading it via Learn in your browser online.\n",
    "\n",
    "Remember the flow for downloading a lesson? First you need to **fork** it (make your own copy on GitHub), then you **clone** it (downloading a copy from GitHub to your local laptop). Once you have the files on your computer, you can then open the **Jupyter Notebook** file (it has a file extension of `.ipyn`) locally and start working with it. Let's go through the process together.\n",
    "\n",
    "### Forking and Cloning the Lesson\n",
    "* Start by clicking on the GitHub icon on the Learn page for this lesson\n",
    "* That will take you to GitHub. Click on the \"Fork\" button in the top right to make your own copy of this lesson on GitHub\n",
    "* Once you've forked, you need to clone the lesson (download a copy to your local computer)\n",
    "* To do that, copy the URL of the repository in your browser window, then in the Git Bash terminal window, type `git clone` followed by the URL. So it should be something like `git clone https://github.com/learn-co-students/ent-ds-del-1-1-downloading-your-first-notebook-ds-deloitte-03192019`\n",
    "\n",
    "### Opening the Jupyter Notebook\n",
    "Now that you've downloaded the files, you need to be able to open the notebook.\n",
    "* Change directory into the newly downloaded directory (in Git Bash, type `cd ent` followed by hitting the tab key to \"tab complete\" and then the enter key to run the command)\n",
    "* type `jupyter notebook` into Git Bash and a browser window will pop up with a list of files\n",
    "* In the browser, click on the `index.ipynb` file and congratulations, you're now running a Jupyter Notebook file locally. You're going to be doing a lot of that over the next few weeks!\n",
    "\n",
    "### A Brief Introduction to Jupyter Notebooks\n",
    "Jupyter Notebooks are a web based text editor, popular amongst data scientists for creating documents that contain code and comments - and sometimes the output from the code as well (tables, charts, etc). It turns out that they are a very convenient way for writing, exploring and documenting code for working with data.\n",
    "\n",
    "#### Introduction to cells\n",
    "Each Jupyter Notebook is comprised of a number of cells. Double click on this content to see what I mean. Once we double click on a cell, we are in **insert mode**. This means that we are able to edit the cells, just like you would if this were a word document. We can tell that we are in insert mode because of the green border around the cell.  \n",
    "\n",
    "After entering insert mode for this cell, change some content. Don't worry about what you change as we can always undo it. We can revert our changes to a cell by making sure that we are still in insert mode and by pressing `control + z`.\n",
    "\n",
    "To get out of insert mode and see the effect of our changes, press `shift + enter`.\n",
    "\n",
    "#### Types of Cells\n",
    "\n",
    "The current cell and every other cell in this lesson has been a **markdown cell**, meaning that it allows us to write and style text. For example, if you surround some text with two asterisks (`**`) on both sides, the text **becomes bold**. That's markdown.\n",
    "\n",
    "Cells can also have a type of code. If we are writing in a cell that is for Python code, everything in that cell must be valid Python or we will see an error."
   ]
  },
  {
   "cell_type": "code",
   "execution_count": null,
   "metadata": {},
   "outputs": [],
   "source": [
    "This is a python cell without valid Python so we will see an error if we run it"
   ]
  },
  {
   "cell_type": "markdown",
   "metadata": {},
   "source": [
    "So, a cell must either be of type markdown or of type code, in which case all of the contents must be valid Python.  It cannot be both. We can quickly change a cell from markdown to code with some keyboard shortcuts.\n",
    "\n",
    "From escape mode, we change a cell to type code by pressing the letter `y`.\n",
    "From escape mode, we change a cell to type markdown by pressing the letter `m`.\n",
    "\n",
    "Anytime we create a new cell, say with the shortcut key `b`, the new cell will default to code mode.  We can switch to escape mode and press the letter `m` to change the cell from code to markdown.\n",
    "\n",
    "**Press the key `h` while in escape mode to view the menu for all of Jupyter's shortcuts.**"
   ]
  },
  {
   "cell_type": "markdown",
   "metadata": {},
   "source": [
    "### Working with Python in Jupyter\n",
    "\n",
    "Ok, now that we know a little bit about cells, let's focus on working with Python in Jupyter.  The main takeaway is this: if we see a Python (code) cell, to run that code, we should press `shift + enter` on that cell. \n",
    "\n",
    "The major gotcha in working with Python code is that we must execute the cells in order for Python to register the code in them. So for example, just seeing the cell where we define `name` to `'bob'` below does not write that cell to memory."
   ]
  },
  {
   "cell_type": "code",
   "execution_count": 1,
   "metadata": {},
   "outputs": [],
   "source": [
    "name = 'bob'"
   ]
  },
  {
   "cell_type": "code",
   "execution_count": 2,
   "metadata": {},
   "outputs": [
    {
     "data": {
      "text/plain": [
       "'bob'"
      ]
     },
     "execution_count": 2,
     "metadata": {},
     "output_type": "execute_result"
    }
   ],
   "source": [
    "name"
   ]
  },
  {
   "cell_type": "code",
   "execution_count": 3,
   "metadata": {},
   "outputs": [
    {
     "ename": "NameError",
     "evalue": "name 'name2' is not defined",
     "output_type": "error",
     "traceback": [
      "\u001b[1;31m---------------------------------------------------------------------------\u001b[0m",
      "\u001b[1;31mNameError\u001b[0m                                 Traceback (most recent call last)",
      "\u001b[1;32m<ipython-input-3-e1187e69ab52>\u001b[0m in \u001b[0;36m<module>\u001b[1;34m\u001b[0m\n\u001b[1;32m----> 1\u001b[1;33m \u001b[0mname2\u001b[0m\u001b[1;33m\u001b[0m\u001b[1;33m\u001b[0m\u001b[0m\n\u001b[0m",
      "\u001b[1;31mNameError\u001b[0m: name 'name2' is not defined"
     ]
    }
   ],
   "source": [
    "name2"
   ]
  },
  {
   "cell_type": "markdown",
   "metadata": {},
   "source": [
    "If we try to reference that variable later on without having executed the cell, Python will tell us that it is not defined.\n",
    "\n",
    "To execute or run a cell, we must press `shift + enter` on that cell (or when that cell is selected). Upon running a cell, Python will show the the last line of the cell's return value underneath.  Let's run the cell below to see this:"
   ]
  },
  {
   "cell_type": "code",
   "execution_count": 4,
   "metadata": {},
   "outputs": [
    {
     "data": {
      "text/plain": [
       "14"
      ]
     },
     "execution_count": 4,
     "metadata": {},
     "output_type": "execute_result"
    }
   ],
   "source": [
    "age = 14\n",
    "age"
   ]
  },
  {
   "cell_type": "markdown",
   "metadata": {},
   "source": [
    "As you can see the variable `age` is set to 14, so when the cell is run `14` is displayed underneath.\n"
   ]
  },
  {
   "cell_type": "markdown",
   "metadata": {},
   "source": [
    "### Saving Your Changes\n",
    "There are a few steps you need to remember to complete to save and back up your changes. Let's go through the process to introduce it to you.\n",
    "* Firstly, make a change to this document. Double click on one of the calls, and add some new text. It doesn't matter what it says.\n",
    "* To save that change to disk, in Jupyter Notebook, select the `File - Save and Checkpoint` menu option\n",
    "* Now go back to your terminal window. You'll have to hit `control-z` to stop Jupyter Notebook running.\n",
    "* Then type `git status -s` in the terminal window. You should see a response of `M index.ipynb` which is telling us that the index.ipynb (the Jupyter Notebook file we were working on) has been Modified.\n",
    "* To save the changes into the Git version control system type `git add .` and then `git commit -m \"My changes\"`\n",
    "* To save those changes to GitHub, you need to type `git push` to push your changes up to GitHub\n"
   ]
  },
  {
   "cell_type": "markdown",
   "metadata": {},
   "source": [
    "## Summary\n",
    "\n",
    "Congratulations! In this lesson, you practiced forking and cloning a repository, you learned how to open a Jupyter Notebook file from the terminal, and how to save your changes to disk, add them to Git, and upload them to GitHub so you have a backup of your work in case your laptop dies or you need to access it from another computer! \n",
    "\n",
    "Next up, lets learn a little more about variables . . .\n"
   ]
  }
 ],
 "metadata": {
  "kernelspec": {
   "display_name": "Python 3",
   "language": "python",
   "name": "python3"
  },
  "language_info": {
   "codemirror_mode": {
    "name": "ipython",
    "version": 3
   },
   "file_extension": ".py",
   "mimetype": "text/x-python",
   "name": "python",
   "nbconvert_exporter": "python",
   "pygments_lexer": "ipython3",
   "version": "3.7.1"
  }
 },
 "nbformat": 4,
 "nbformat_minor": 2
}
